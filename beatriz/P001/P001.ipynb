{
 "cells": [
  {
   "cell_type": "markdown",
   "id": "4a1db925",
   "metadata": {},
   "source": [
    "# INSTRUÇÃO PRÁTICA P001"
   ]
  },
  {
   "cell_type": "markdown",
   "id": "a177bfb3",
   "metadata": {},
   "source": [
    "### Exercício 2: Manipulação de variáveis de tipo inteiro, explorando as características e os limites.\n"
   ]
  },
  {
   "cell_type": "markdown",
   "id": "a30b4cdc",
   "metadata": {},
   "source": [
    "- Operadores aritméticos"
   ]
  },
  {
   "cell_type": "code",
   "execution_count": 1,
   "id": "fbf4b7cd",
   "metadata": {},
   "outputs": [
    {
     "name": "stdout",
     "output_type": "stream",
     "text": [
      "Soma de 10 e 3 é igual a 13\n",
      "Subtração de 10 por 3 é igual a 7\n",
      "Multiplicação de 10 por 3 é igual a 30\n",
      "Divisão de 10 por 3 é igual a 3.3333333333333335\n",
      "O resto da divisão de 10 por 3 é 1\n",
      "10 elevado a 3 é igual a 1000\n"
     ]
    }
   ],
   "source": [
    "# Valores para os cálculos\n",
    "a = 10\n",
    "b = 3\n",
    "\n",
    "# Adição\n",
    "soma = a + b\n",
    "print(f\"Soma de {a} e {b} é igual a {soma}\")\n",
    "\n",
    "# Subtração\n",
    "subtracao = a - b\n",
    "print(f\"Subtração de {a} por {b} é igual a {subtracao}\")\n",
    "\n",
    "# Multiplicação\n",
    "multiplicacao = a * b\n",
    "print(f\"Multiplicação de {a} por {b} é igual a {multiplicacao}\")\n",
    "\n",
    "# Divisão\n",
    "divisao = a / b\n",
    "print(f\"Divisão de {a} por {b} é igual a {divisao}\")\n",
    "\n",
    "# Módulo\n",
    "modulo = a % b\n",
    "print(f\"O resto da divisão de {a} por {b} é {modulo}\")\n",
    "\n",
    "# Exponenciação\n",
    "exponenciacao = a ** b\n",
    "print(f\"{a} elevado a {b} é igual a {exponenciacao}\")\n"
   ]
  },
  {
   "cell_type": "markdown",
   "id": "37740a4f",
   "metadata": {},
   "source": [
    "- Operadores aritméticos compostos"
   ]
  },
  {
   "cell_type": "markdown",
   "id": "58d6150a",
   "metadata": {},
   "source": [
    "> Os operadores aritméticos compostos são uma forma simplificada de realizar operações aritméticas e, ao mesmo tempo, atualizar o valor de uma variável. Eles combinam um operador aritmético com uma operação de atribuição."
   ]
  },
  {
   "cell_type": "code",
   "execution_count": 2,
   "id": "b4634246",
   "metadata": {},
   "outputs": [
    {
     "name": "stdout",
     "output_type": "stream",
     "text": [
      "Adição com atribuição: x += y resulta em x igual a 13\n",
      "Subtração com atribuição: x -= y resulta em x igual a 10\n",
      "Multiplicação com atribuição: x *= y resulta em x igual a 30\n",
      "Divisão com atribuição: x /= y resulta em x igual a 10.0\n",
      "Módulo com atribuição: x %= y resulta em x igual a 1.0\n",
      "Exponenciação com atribuição: x **= y resulta em x igual a 1.0\n"
     ]
    }
   ],
   "source": [
    "# Valores iniciais\n",
    "x = 10\n",
    "y = 3\n",
    "\n",
    "# Adição com atribuição\n",
    "x += y\n",
    "print(f\"Adição com atribuição: x += y resulta em x igual a {x}\")\n",
    "\n",
    "# Subtração com atribuição\n",
    "x -= y\n",
    "print(f\"Subtração com atribuição: x -= y resulta em x igual a {x}\")\n",
    "\n",
    "# Multiplicação com atribuição\n",
    "x *= y\n",
    "print(f\"Multiplicação com atribuição: x *= y resulta em x igual a {x}\")\n",
    "\n",
    "# Divisão com atribuição\n",
    "x /= y\n",
    "print(f\"Divisão com atribuição: x /= y resulta em x igual a {x}\")\n",
    "\n",
    "# Módulo com atribuição\n",
    "x %= y\n",
    "print(f\"Módulo com atribuição: x %= y resulta em x igual a {x}\")\n",
    "\n",
    "# Exponenciação com atribuição\n",
    "x **= y\n",
    "print(f\"Exponenciação com atribuição: x **= y resulta em x igual a {x}\")\n"
   ]
  },
  {
   "cell_type": "markdown",
   "id": "2740e187",
   "metadata": {},
   "source": [
    "- Diferença entre C/C++ : Divisão"
   ]
  },
  {
   "cell_type": "markdown",
   "id": "fa3c1d7d",
   "metadata": {},
   "source": [
    "> O operador de divisão (/) entre dois inteiros sempre resulta em um número de ponto flutuante em python, mesmo se a divisão for exata. Vimos isso no exemplo acima , quando dividimos 10/3 que deu 3.3333333333333335,enquanto em C/C++, usando inteiros, resultaria em 3. \n",
    ">Para obter o mesmo resultado em python é preciso truncar a parte decimal, usando '//'"
   ]
  },
  {
   "cell_type": "code",
   "execution_count": 3,
   "id": "b21d968f",
   "metadata": {},
   "outputs": [
    {
     "name": "stdout",
     "output_type": "stream",
     "text": [
      "Divisão inteira de 10 por 3 é igual a 3\n"
     ]
    }
   ],
   "source": [
    "a = 10\n",
    "b = 3\n",
    "\n",
    "# Divisão inteira (comportamento similar ao de C++)\n",
    "resultado = a // b\n",
    "print(f\"Divisão inteira de {a} por {b} é igual a {resultado}\")\n"
   ]
  },
  {
   "cell_type": "markdown",
   "id": "b4e78219",
   "metadata": {},
   "source": [
    "- Diferença entre C/C++ : Exponenciação"
   ]
  },
  {
   "cell_type": "markdown",
   "id": "1b568636",
   "metadata": {},
   "source": [
    "> operador de exponenciação é representado por **, enquanto em C/C++ é necessário o uso de funções ou bibliotecas específicas para calcular potências."
   ]
  },
  {
   "cell_type": "code",
   "execution_count": 4,
   "id": "4ec37acb",
   "metadata": {},
   "outputs": [
    {
     "name": "stdout",
     "output_type": "stream",
     "text": [
      "10 elevado a 3 é igual a 1000\n"
     ]
    }
   ],
   "source": [
    "# Exponenciação\n",
    "exponenciacao = a ** b\n",
    "print(f\"{a} elevado a {b} é igual a {exponenciacao}\")"
   ]
  },
  {
   "cell_type": "markdown",
   "id": "49aaef7d",
   "metadata": {},
   "source": [
    "- Comparação entre limites de representações"
   ]
  },
  {
   "cell_type": "markdown",
   "id": "4dfe05d9",
   "metadata": {},
   "source": [
    "> Python permite representar números inteiros significativamente grandes, como fatorial de 30, porém em C/C++ O maior valor positivo que pode ser representado com um int de 32 bits é apenas 2^31 - 1."
   ]
  },
  {
   "cell_type": "code",
   "execution_count": 5,
   "id": "5c298747",
   "metadata": {},
   "outputs": [
    {
     "name": "stdout",
     "output_type": "stream",
     "text": [
      "O fatorial de 30 em Python é: 265252859812191058636308480000000\n"
     ]
    }
   ],
   "source": [
    "import math\n",
    "\n",
    "# Calculando o fatorial de 30 em Python\n",
    "fatorial_30 = math.factorial(30)\n",
    "print(f\"O fatorial de 30 em Python é: {fatorial_30}\")\n"
   ]
  },
  {
   "cell_type": "code",
   "execution_count": 6,
   "id": "9511e33d",
   "metadata": {},
   "outputs": [
    {
     "name": "stdout",
     "output_type": "stream",
     "text": [
      "O maior número inteiro representado em C/C++ é: 2147483647\n"
     ]
    }
   ],
   "source": [
    "import sys\n",
    "\n",
    "# Maior número inteiro representável em C/C++\n",
    "maior_int_cpp = 2 ** 31 - 1\n",
    "\n",
    "print(f\"O maior número inteiro representado em C/C++ é: {maior_int_cpp}\")\n"
   ]
  },
  {
   "cell_type": "markdown",
   "id": "d98c51ac",
   "metadata": {},
   "source": [
    "- As variveis são imutaveis, iremos provar atraves do exemplo abaixo"
   ]
  },
  {
   "cell_type": "code",
   "execution_count": 7,
   "id": "fbe45676",
   "metadata": {},
   "outputs": [],
   "source": [
    "x=64\n",
    "y=x\n",
    "x =x + 1 "
   ]
  },
  {
   "cell_type": "markdown",
   "id": "bb143f16",
   "metadata": {},
   "source": [
    "> Como sabemos, em python tudo é ponteiro, pelo exemplo temos que x e y apontam para o mesmo lugar, intuitivamente podemos achar que ao mudar x também mudaremos Y, mas não é isso que acontece."
   ]
  },
  {
   "cell_type": "code",
   "execution_count": 8,
   "id": "c80c8479",
   "metadata": {},
   "outputs": [
    {
     "name": "stdout",
     "output_type": "stream",
     "text": [
      "65\n",
      "64\n"
     ]
    }
   ],
   "source": [
    "print(x)\n",
    "print(y)"
   ]
  },
  {
   "cell_type": "markdown",
   "id": "ba203422",
   "metadata": {},
   "source": [
    "> x passa a ser 65 mas y continua como 64, pois em python ao atribuir um novo valor a uma variável, ele cria uma nova referência para esse valor (x aponta para um novo endereço), mantendo a referência original inalterada (o endereeço ao qual y aponta não é alterado) e apontando para o mesmo valor anterior. Em linguagens como C, esse novo valor seria armazenado no mesmo endereço de memória onde a variável está alocada.  "
   ]
  },
  {
   "cell_type": "markdown",
   "id": "5d72292a",
   "metadata": {},
   "source": [
    "- Métodos que estão disponíveis para as variáveis inteiras"
   ]
  },
  {
   "cell_type": "markdown",
   "id": "281de884",
   "metadata": {},
   "source": [
    "> para verificar todos os métodos disponíveis para um tipo de objeto em Python, você pode usar a função dir()."
   ]
  },
  {
   "cell_type": "code",
   "execution_count": 9,
   "id": "b0dfa36b",
   "metadata": {},
   "outputs": [
    {
     "name": "stdout",
     "output_type": "stream",
     "text": [
      "['__abs__', '__add__', '__and__', '__bool__', '__ceil__', '__class__', '__delattr__', '__dir__', '__divmod__', '__doc__', '__eq__', '__float__', '__floor__', '__floordiv__', '__format__', '__ge__', '__getattribute__', '__getnewargs__', '__getstate__', '__gt__', '__hash__', '__index__', '__init__', '__init_subclass__', '__int__', '__invert__', '__le__', '__lshift__', '__lt__', '__mod__', '__mul__', '__ne__', '__neg__', '__new__', '__or__', '__pos__', '__pow__', '__radd__', '__rand__', '__rdivmod__', '__reduce__', '__reduce_ex__', '__repr__', '__rfloordiv__', '__rlshift__', '__rmod__', '__rmul__', '__ror__', '__round__', '__rpow__', '__rrshift__', '__rshift__', '__rsub__', '__rtruediv__', '__rxor__', '__setattr__', '__sizeof__', '__str__', '__sub__', '__subclasshook__', '__truediv__', '__trunc__', '__xor__', 'as_integer_ratio', 'bit_count', 'bit_length', 'conjugate', 'denominator', 'from_bytes', 'imag', 'numerator', 'real', 'to_bytes']\n"
     ]
    }
   ],
   "source": [
    "print(dir(int))"
   ]
  },
  {
   "cell_type": "markdown",
   "id": "f432dc9e",
   "metadata": {},
   "source": [
    "### Exercício 3: Manipulação de variáveis de tipo string e explorando o uso de print"
   ]
  },
  {
   "cell_type": "code",
   "execution_count": 10,
   "id": "74f40d5c",
   "metadata": {},
   "outputs": [
    {
     "name": "stdout",
     "output_type": "stream",
     "text": [
      "'0' - 48\n",
      "'1' - 49\n",
      "'2' - 50\n",
      "'3' - 51\n",
      "'4' - 52\n",
      "'5' - 53\n",
      "'6' - 54\n",
      "'7' - 55\n",
      "'8' - 56\n",
      "'9' - 57\n"
     ]
    }
   ],
   "source": [
    "# Imprime os caracteres numéricos e seus códigos ASCII\n",
    "for i in range(10):\n",
    "    print(f\"'{chr(48 + i)}' - {48 + i}\")\n",
    "\n"
   ]
  },
  {
   "cell_type": "code",
   "execution_count": 11,
   "id": "0318ab6e",
   "metadata": {
    "scrolled": true
   },
   "outputs": [
    {
     "name": "stdout",
     "output_type": "stream",
     "text": [
      "'0' - 48\n",
      "'1' - 49\n",
      "'2' - 50\n",
      "'3' - 51\n",
      "'4' - 52\n",
      "'5' - 53\n",
      "'6' - 54\n",
      "'7' - 55\n",
      "'8' - 56\n",
      "'9' - 57\n"
     ]
    }
   ],
   "source": [
    "\n",
    "# Imprime os caracteres numéricos e seus códigos ASCII usando ord()\n",
    "for i in range(10):\n",
    "    num_char = chr(ord('0') + i)  # Obtém o caractere numérico\n",
    "    print(f\"'{num_char}' - {ord(num_char)}\")\n",
    "\n"
   ]
  },
  {
   "cell_type": "markdown",
   "id": "816f8acb",
   "metadata": {},
   "source": [
    "> A função chr() converte um número inteiro em seu caractere correspondente na tabela ASCII, enquanto ord() faz o oposto, convertendo um caractere em seu valor numérico na tabela ASCII."
   ]
  },
  {
   "cell_type": "markdown",
   "id": "b5a2318d",
   "metadata": {},
   "source": [
    "- Imprimindo o código numérico em octal e em hexadecimal.\n"
   ]
  },
  {
   "cell_type": "code",
   "execution_count": 12,
   "id": "8894b481",
   "metadata": {},
   "outputs": [
    {
     "name": "stdout",
     "output_type": "stream",
     "text": [
      "Carac Deci Octa   Hex\n",
      "'0' - 48 - 0o60 - 0x30\n",
      "'1' - 49 - 0o61 - 0x31\n",
      "'2' - 50 - 0o62 - 0x32\n",
      "'3' - 51 - 0o63 - 0x33\n",
      "'4' - 52 - 0o64 - 0x34\n",
      "'5' - 53 - 0o65 - 0x35\n",
      "'6' - 54 - 0o66 - 0x36\n",
      "'7' - 55 - 0o67 - 0x37\n",
      "'8' - 56 - 0o70 - 0x38\n",
      "'9' - 57 - 0o71 - 0x39\n"
     ]
    }
   ],
   "source": [
    "\n",
    "# Imprime os caracteres numéricos e seus códigos ASCII usando ord()\n",
    "print(\"Carac Deci Octa   Hex\")\n",
    "for i in range(10):\n",
    "    num_char = chr(ord('0') + i)  # Obtém o caractere numérico\n",
    "    print(f\"'{num_char}' - {ord(num_char)} - {oct(ord(num_char))} - {hex(ord(num_char))}\")\n",
    "\n"
   ]
  },
  {
   "cell_type": "markdown",
   "id": "43c16022",
   "metadata": {},
   "source": [
    "- Lendo um caractere qualquer e imprimindo no mesmo formato do código anterior\n"
   ]
  },
  {
   "cell_type": "code",
   "execution_count": 13,
   "id": "7aae5a96",
   "metadata": {},
   "outputs": [
    {
     "name": "stdout",
     "output_type": "stream",
     "text": [
      "Digite um caractere: d\n",
      "Carac Deci Octa   Hex\n",
      "'d' - 100 - 0o144 - 0x64\n"
     ]
    }
   ],
   "source": [
    "# Lê um caractere da entrada padrão\n",
    "caractere = input(\"Digite um caractere: \")\n",
    "\n",
    "# Obtém o código ASCII do caractere inserido\n",
    "codigo_decimal = ord(caractere)\n",
    "codigo_octal = oct(codigo_decimal)\n",
    "codigo_hexadecimal = hex(codigo_decimal)\n",
    "print(\"Carac Deci Octa   Hex\")\n",
    "# Imprime as representações do caractere\n",
    "print(f\"'{caractere}' - {ord(caractere)} - {oct(ord(caractere))} - {hex(ord(caractere))}\")\n"
   ]
  },
  {
   "cell_type": "markdown",
   "id": "cec38a40",
   "metadata": {},
   "source": [
    "-  Caracteres especiais, ‘ç’ e ‘ã’\n"
   ]
  },
  {
   "cell_type": "code",
   "execution_count": 14,
   "id": "05cad268",
   "metadata": {
    "scrolled": true
   },
   "outputs": [
    {
     "name": "stdout",
     "output_type": "stream",
     "text": [
      "Carac Deci Octa   Hex\n",
      "'ç' - 231 - 0o347 - 0xe7\n",
      "'ã' - 227 - 0o343 - 0xe3\n"
     ]
    }
   ],
   "source": [
    "# Caracteres especiais 'ç' e 'ã'\n",
    "caracteres_especiais = ['ç', 'ã']\n",
    "print(\"Carac Deci Octa   Hex\")\n",
    "for caractere in caracteres_especiais:\n",
    "    print(f\"'{caractere}' - {ord(caractere)} - {oct(ord(caractere))} - {hex(ord(caractere))}\")\n"
   ]
  },
  {
   "cell_type": "markdown",
   "id": "e111d69f",
   "metadata": {},
   "source": [
    "### Exercício 4: Manipulação de variáveis de tipo string e explorando os métodos da classe.\n"
   ]
  },
  {
   "cell_type": "code",
   "execution_count": 15,
   "id": "3b32ba75",
   "metadata": {},
   "outputs": [],
   "source": [
    "# Declare uma variável com seu nome completo\n",
    "nomeCompleto = \"Beatriz Pereira Aragão\""
   ]
  },
  {
   "cell_type": "code",
   "execution_count": 16,
   "id": "7c097051",
   "metadata": {},
   "outputs": [],
   "source": [
    "# Separe o nome do sobrenome\n",
    "nome, sobrenome = nomeCompleto.split(maxsplit=1)"
   ]
  },
  {
   "cell_type": "markdown",
   "id": "47842e54",
   "metadata": {},
   "source": [
    "> split(maxsplit=1) divide a string nomeCompleto em duas partes (logo após encontrar o primeiro espaço após a primeira string): a primeira palavra como o nome e o restante como o sobrenome."
   ]
  },
  {
   "cell_type": "code",
   "execution_count": 17,
   "id": "290caa01",
   "metadata": {},
   "outputs": [
    {
     "name": "stdout",
     "output_type": "stream",
     "text": [
      "Beatriz vem antes de Pereira Aragão na ordem alfabética\n"
     ]
    }
   ],
   "source": [
    "# Verifique qual das variáveis antecede a outra na ordem alfabética\n",
    "if nome < sobrenome:\n",
    "    print(f\"{nome} vem antes de {sobrenome} na ordem alfabética\")\n",
    "else:\n",
    "    print(f\"{sobrenome} vem antes de {nome} na ordem alfabética\")\n",
    "\n",
    "\n"
   ]
  },
  {
   "cell_type": "code",
   "execution_count": 18,
   "id": "bd4f800e",
   "metadata": {},
   "outputs": [
    {
     "name": "stdout",
     "output_type": "stream",
     "text": [
      "O nome tem 7 caracteres e o sobrenome tem 14 caracteres\n"
     ]
    }
   ],
   "source": [
    "# Verifique a quantidade de caracteres de cada variável\n",
    "print(f\"O nome tem {len(nome)} caracteres e o sobrenome tem {len(sobrenome)} caracteres\")"
   ]
  },
  {
   "cell_type": "code",
   "execution_count": 19,
   "id": "684a225c",
   "metadata": {},
   "outputs": [
    {
     "name": "stdout",
     "output_type": "stream",
     "text": [
      "Beatriz não é um palíndromo.\n"
     ]
    }
   ],
   "source": [
    "# Verifique se seu nome é um palíndromo\n",
    "nome_minusculo = nome.lower()  # Convertendo para minúsculas para ignorar diferenças de caixa\n",
    "if nome_minusculo == nome_minusculo[::-1]:\n",
    "    print(f\"{nome} é um palíndromo!\")\n",
    "else:\n",
    "    print(f\"{nome} não é um palíndromo.\")"
   ]
  },
  {
   "cell_type": "markdown",
   "id": "d79d3d03",
   "metadata": {},
   "source": [
    "> [:: -1] seleciona todos os elementos de uma sequência, começando pelo primeiro elemento e indo até o último, mas com um passo negativo (-1), o que efetivamente inverte a ordem dos elementos."
   ]
  },
  {
   "cell_type": "markdown",
   "id": "d3540f35",
   "metadata": {},
   "source": [
    "### Exercício 5: Manipulação de variáveis de ponto flutuante, explorando as características e os limites..\n"
   ]
  },
  {
   "cell_type": "markdown",
   "id": "2c1ba3f9",
   "metadata": {},
   "source": [
    "- Operadores aritméticos"
   ]
  },
  {
   "cell_type": "code",
   "execution_count": 20,
   "id": "447a99f0",
   "metadata": {},
   "outputs": [
    {
     "name": "stdout",
     "output_type": "stream",
     "text": [
      "Soma de 12.0 e 3.0 é igual a 15.0\n",
      "Subtração de 12.0 por 3.0 é igual a 9.0\n",
      "Multiplicação de 12.0 por 3.0 é igual a 36.0\n",
      "Divisão de 12.0 por 3.0 é igual a 4.0\n",
      "O resto da divisão de 12.0 por 3.0 é 0.0\n",
      "12.0 elevado a 3.0 é igual a 1728.0\n"
     ]
    }
   ],
   "source": [
    "# Valores para os cálculos\n",
    "a = 12.0\n",
    "b = 3.0\n",
    "\n",
    "# Adição\n",
    "soma = a + b\n",
    "print(f\"Soma de {a} e {b} é igual a {soma}\")\n",
    "\n",
    "# Subtração\n",
    "subtracao = a - b\n",
    "print(f\"Subtração de {a} por {b} é igual a {subtracao}\")\n",
    "\n",
    "# Multiplicação\n",
    "multiplicacao = a * b\n",
    "print(f\"Multiplicação de {a} por {b} é igual a {multiplicacao}\")\n",
    "\n",
    "# Divisão\n",
    "divisao = a / b\n",
    "print(f\"Divisão de {a} por {b} é igual a {divisao}\")\n",
    "\n",
    "# Módulo\n",
    "modulo = a % b\n",
    "print(f\"O resto da divisão de {a} por {b} é {modulo}\")\n",
    "\n",
    "# Exponenciação\n",
    "exponenciacao = a ** b\n",
    "print(f\"{a} elevado a {b} é igual a {exponenciacao}\")\n"
   ]
  },
  {
   "cell_type": "markdown",
   "id": "1676bea9",
   "metadata": {},
   "source": [
    "- Operadores aritméticos compostos"
   ]
  },
  {
   "cell_type": "code",
   "execution_count": 21,
   "id": "82d77a4a",
   "metadata": {},
   "outputs": [
    {
     "name": "stdout",
     "output_type": "stream",
     "text": [
      "Adição com atribuição: x += y resulta em x igual a 129\n",
      "Subtração com atribuição: x -= y resulta em x igual a 65\n",
      "Multiplicação com atribuição: x *= y resulta em x igual a 4160\n",
      "Divisão com atribuição: x /= y resulta em x igual a 65.0\n",
      "Módulo com atribuição: x %= y resulta em x igual a 1.0\n",
      "Exponenciação com atribuição: x **= y resulta em x igual a 1.0\n"
     ]
    }
   ],
   "source": [
    "# Valores iniciais\n",
    "a = 12.0\n",
    "b = 3.0\n",
    "\n",
    "# Adição com atribuição\n",
    "x += y\n",
    "print(f\"Adição com atribuição: x += y resulta em x igual a {x}\")\n",
    "\n",
    "# Subtração com atribuição\n",
    "x -= y\n",
    "print(f\"Subtração com atribuição: x -= y resulta em x igual a {x}\")\n",
    "\n",
    "# Multiplicação com atribuição\n",
    "x *= y\n",
    "print(f\"Multiplicação com atribuição: x *= y resulta em x igual a {x}\")\n",
    "\n",
    "# Divisão com atribuição\n",
    "x /= y\n",
    "print(f\"Divisão com atribuição: x /= y resulta em x igual a {x}\")\n",
    "\n",
    "# Módulo com atribuição\n",
    "x %= y\n",
    "print(f\"Módulo com atribuição: x %= y resulta em x igual a {x}\")\n",
    "\n",
    "# Exponenciação com atribuição\n",
    "x **= y\n",
    "print(f\"Exponenciação com atribuição: x **= y resulta em x igual a {x}\")\n"
   ]
  },
  {
   "cell_type": "markdown",
   "id": "0825902a",
   "metadata": {},
   "source": [
    "- A maior e a menor potência de 2 que pode ser representada com variáveis de ponto flutuante.\n"
   ]
  },
  {
   "cell_type": "code",
   "execution_count": 22,
   "id": "1accac14",
   "metadata": {},
   "outputs": [
    {
     "name": "stdout",
     "output_type": "stream",
     "text": [
      "A maior potência de 2 representável é: 179769313486231590772930519078902473361797697894230657273430081157732675805500963132708477322407536021120113879871393357658789768814416622492847430639474124377767893424865485276302219601246094119453082952085005768838150682342462881473913110540827237163350510684586298239947245938479716304835356329624224137216\n",
      "A menor potência de 2 representável é: 4.450147717014403e-308\n"
     ]
    }
   ],
   "source": [
    "import sys\n",
    "#maior potencia\n",
    "maiorPotencia = 2 ** sys.float_info.max_exp\n",
    "print(f\"A maior potência de 2 representável é: {maiorPotencia}\")\n",
    "\n",
    "#menor\n",
    "menorPotencia = 2 ** sys.float_info.min_exp\n",
    "print(f\"A menor potência de 2 representável é: {menorPotencia}\")\n",
    "\n"
   ]
  },
  {
   "cell_type": "markdown",
   "id": "45114850",
   "metadata": {},
   "source": [
    "- As variveis são imutaveis"
   ]
  },
  {
   "cell_type": "code",
   "execution_count": 28,
   "id": "c6ecad4c",
   "metadata": {},
   "outputs": [
    {
     "name": "stdout",
     "output_type": "stream",
     "text": [
      "Endereço de memória de 'x'=140727022819400 e de y=140727022819400\n",
      "Endereço de memória, após alteração, de 'x'=140727022819432 e de y=140727022819400\n"
     ]
    }
   ],
   "source": [
    "# Exemplo de obtenção do endereço de memória de uma variável\n",
    "x = 42\n",
    "y = x\n",
    "print(f\"Endereço de memória de 'x'={id(x)} e de y={id(y)}\")\n",
    "x +=1\n",
    "print(f\"Endereço de memória, após alteração, de 'x'={id(x)} e de y={id(y)}\")\n"
   ]
  },
  {
   "cell_type": "markdown",
   "id": "6c3d386d",
   "metadata": {},
   "source": [
    "> Semelhante ao exemplo feito nos inteiros, mas agora fazendo o acompanhamento através do endereço que cada variavel esta apontando."
   ]
  },
  {
   "cell_type": "markdown",
   "id": "59586e0f",
   "metadata": {},
   "source": [
    "- Métodos estão disponíveis para as variáveis de ponto flutuante"
   ]
  },
  {
   "cell_type": "code",
   "execution_count": 24,
   "id": "f5c0abdc",
   "metadata": {},
   "outputs": [
    {
     "name": "stdout",
     "output_type": "stream",
     "text": [
      "['__abs__', '__add__', '__bool__', '__ceil__', '__class__', '__delattr__', '__dir__', '__divmod__', '__doc__', '__eq__', '__float__', '__floor__', '__floordiv__', '__format__', '__ge__', '__getattribute__', '__getformat__', '__getnewargs__', '__getstate__', '__gt__', '__hash__', '__init__', '__init_subclass__', '__int__', '__le__', '__lt__', '__mod__', '__mul__', '__ne__', '__neg__', '__new__', '__pos__', '__pow__', '__radd__', '__rdivmod__', '__reduce__', '__reduce_ex__', '__repr__', '__rfloordiv__', '__rmod__', '__rmul__', '__round__', '__rpow__', '__rsub__', '__rtruediv__', '__setattr__', '__sizeof__', '__str__', '__sub__', '__subclasshook__', '__truediv__', '__trunc__', 'as_integer_ratio', 'conjugate', 'fromhex', 'hex', 'imag', 'is_integer', 'real']\n"
     ]
    }
   ],
   "source": [
    "print(dir(float))"
   ]
  },
  {
   "cell_type": "markdown",
   "id": "4ea43372",
   "metadata": {},
   "source": [
    "### Exercício 6: Manipulando listas.\n"
   ]
  },
  {
   "cell_type": "markdown",
   "id": "99eedbd6",
   "metadata": {},
   "source": [
    "> É possivel fatiar estruturas em python, chamamos de slices\n",
    " Seja L uma lista e usamos [p1:p2:p3], cada parametro fica responsavel por contrar uma parte dessa execução\n",
    " p1 = informa o inicio, \n",
    " p2 = onde terminará e\n",
    " p3 = qual a quantidade de passos na leitura/separação\n",
    " \n",
    "> Ao omitir um parametro, é usano os seu valores padrões:\n",
    "p1 = primeiro elemento | p2 = ultimo elemento |p3 = passo de 1 em 1"
   ]
  },
  {
   "cell_type": "markdown",
   "id": "ee7758d9",
   "metadata": {},
   "source": [
    "- O que será impresso em cada caso: Sendo L = [1, 2, 3, 4, 5, 6, 7, 8, 9]\n"
   ]
  },
  {
   "cell_type": "markdown",
   "id": "d53424f6",
   "metadata": {},
   "source": [
    "> print(L[::-1]) , a será exibido todos os elementos, mas de forma invertida 9,8,7,6,5,4,3,2,1;\n",
    "\n",
    ">print(L[-1::]) , apenas o 9 será exibido pois o parametro de inicio está no -1 , ou seja o inicio é o ultimo elemento;\n",
    "\n",
    ">print(L[:-1:]) , apenas o 9 não será exibido, pois o fim está para o penultimo elemento;\n",
    "\n",
    ">print(L[::-2]) , os elementos de posição impares serão mostrados 1,3,5,7,9 na ordem inversa 9,7,3,5,1;\n",
    "\n",
    ">print(L[-2::]) , exibe 9 e 8 , pois o inicio esta fixado no penultimo elemento;\n",
    "\n",
    ">print(L[:-2:]) , não exibe 9 e 8 pois o fim esta fixado no antepenúltimo elemento;"
   ]
  },
  {
   "cell_type": "markdown",
   "id": "95fbc563",
   "metadata": {},
   "source": [
    "###### Resposta"
   ]
  },
  {
   "cell_type": "code",
   "execution_count": 25,
   "id": "e9a49419",
   "metadata": {},
   "outputs": [
    {
     "name": "stdout",
     "output_type": "stream",
     "text": [
      "[9, 8, 7, 6, 5, 4, 3, 2, 1]\n",
      "[9]\n",
      "[1, 2, 3, 4, 5, 6, 7, 8]\n",
      "[9, 7, 5, 3, 1]\n",
      "[8, 9]\n",
      "[1, 2, 3, 4, 5, 6, 7]\n"
     ]
    }
   ],
   "source": [
    "L = [1, 2, 3, 4, 5, 6, 7, 8, 9]\n",
    "print(L[::-1])\n",
    "print(L[-1::])\n",
    "print(L[:-1:])\n",
    "print(L[::-2])\n",
    "print(L[-2::])\n",
    "print(L[:-2:])"
   ]
  },
  {
   "cell_type": "markdown",
   "id": "99a5ceb4",
   "metadata": {},
   "source": [
    "- Animal no zodiaco chines"
   ]
  },
  {
   "cell_type": "code",
   "execution_count": 26,
   "id": "6881ad18",
   "metadata": {},
   "outputs": [
    {
     "name": "stdout",
     "output_type": "stream",
     "text": [
      "Digite seu ano de nascimento: xxxx\n",
      "2001\n",
      "Seu signo chinês é: Serpente\n"
     ]
    }
   ],
   "source": [
    "print(\"Digite seu ano de nascimento: xxxx\")\n",
    "ano = int(input())\n",
    "print(f\"Seu signo chinês é: \", end=\"\")\n",
    "\n",
    "match (ano % 12):\n",
    "    case 0:\n",
    "        print(\"Macaco\")\n",
    "    case 1:\n",
    "        print(\"Galo\")\n",
    "    case 2:\n",
    "        print(\"Cão\")\n",
    "    case 3:\n",
    "        print(\"Porco\")\n",
    "    case 4:\n",
    "        print(\"Rato\")\n",
    "    case 5:\n",
    "        print(\"Boi\")\n",
    "    case 6:\n",
    "        print(\"Tigre\")\n",
    "    case 7:\n",
    "        print(\"Coelho\")\n",
    "    case 8:\n",
    "        print(\"Dragão\")\n",
    "    case 9:\n",
    "        print(\"Serpente\")\n",
    "    case 10:\n",
    "        print(\"Cavalo\")\n",
    "    case 11:\n",
    "        print(\"Carneiro\")\n",
    "    case _:\n",
    "        print(\"Valor inválido\")"
   ]
  },
  {
   "cell_type": "code",
   "execution_count": null,
   "id": "1add2f46",
   "metadata": {},
   "outputs": [],
   "source": []
  }
 ],
 "metadata": {
  "kernelspec": {
   "display_name": "Python 3 (ipykernel)",
   "language": "python",
   "name": "python3"
  },
  "language_info": {
   "codemirror_mode": {
    "name": "ipython",
    "version": 3
   },
   "file_extension": ".py",
   "mimetype": "text/x-python",
   "name": "python",
   "nbconvert_exporter": "python",
   "pygments_lexer": "ipython3",
   "version": "3.11.5"
  }
 },
 "nbformat": 4,
 "nbformat_minor": 5
}
